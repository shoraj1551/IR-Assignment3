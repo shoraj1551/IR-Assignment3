{
 "cells": [
  {
   "cell_type": "code",
   "execution_count": 1,
   "metadata": {},
   "outputs": [],
   "source": [
    "word_doc = \"the research groups in mathematics and computer science at cmi are among the best known in the country recently a research group has also been set up in physics the institute has nurtured an impressive collection of phd students the main areas of research in mathematics pursued at the institute are algebra analysis differential equations geometry and topology in computer science the main areas of research are formal methods in the specification and verification of software systems design and analysis of algorithms computational complexity theory and computer security in physics research is being carried out mainly in quantum field theory mathematical physics and string theory members of the faculty have strong academic ties with reputed institutions in india and abroad the institute has an active visitors programme and is open to offering flexible visiting positions at all levels the institute has exchange programmes with the ecole normale superieure paris and the ecole normale superieure de cachan each year the two top ranking senior bsc students from cmi spend the summer at ens paris working on research problems with faculty there in return four phd students from ens visit cmi each year to participate in research and teaching cmi is also involved in a number of collaborative research projects both with academic and industrial partners from 2005 2009 the institute was involved in a four year project on timed and distributed computing systems under the indo french networking programme jointly funded by the french ministry of science cnrs and the indian department of science and technology the project involved scientists from cmi imsc and iisc bangalore in india and the university of paris 7 ens de cachan and the university of bordeaux 1 in france a three year indo french research collaboration involving cmi and ens de cachan has been initiated in 2008 under the arcus programme funded by region ile de france cmi has had sponsored research projects with honeywell technology solutions laboratory bangalore siemens’ corporate technology research centre bangalore and tata research development and design centre pune the institute actively supports conferences and workshops and other activities that contribute to the growth of mathematics and computer science in the country\"\n",
    "word_list = word_doc.split(\" \")\n",
    "word_set = set(word_list)\n",
    "word_set = sorted(list(word_set))"
   ]
  },
  {
   "cell_type": "code",
   "execution_count": 2,
   "metadata": {},
   "outputs": [
    {
     "name": "stdout",
     "output_type": "stream",
     "text": [
      "['1', '2005', '2008', '2009', '7', 'a', 'abroad', 'academic', 'active', 'actively', 'activities', 'algebra', 'algorithms', 'all', 'also', 'among', 'an', 'analysis', 'and', 'arcus', 'are', 'areas', 'at', 'bangalore', 'been', 'being', 'best', 'bordeaux', 'both', 'bsc', 'by', 'cachan', 'carried', 'centre', 'cmi', 'cnrs', 'collaboration', 'collaborative', 'collection', 'complexity', 'computational', 'computer', 'computing', 'conferences', 'contribute', 'corporate', 'country', 'de', 'department', 'design', 'development', 'differential', 'distributed', 'each', 'ecole', 'ens', 'equations', 'exchange', 'faculty', 'field', 'flexible', 'formal', 'four', 'france', 'french', 'from', 'funded', 'geometry', 'group', 'groups', 'growth', 'had', 'has', 'have', 'honeywell', 'iisc', 'ile', 'impressive', 'imsc', 'in', 'india', 'indian', 'indo', 'industrial', 'initiated', 'institute', 'institutions', 'involved', 'involving', 'is', 'jointly', 'known', 'laboratory', 'levels', 'main', 'mainly', 'mathematical', 'mathematics', 'members', 'methods', 'ministry', 'networking', 'normale', 'number', 'nurtured', 'of', 'offering', 'on', 'open', 'other', 'out', 'paris', 'participate', 'partners', 'phd', 'physics', 'positions', 'problems', 'programme', 'programmes', 'project', 'projects', 'pune', 'pursued', 'quantum', 'ranking', 'recently', 'region', 'reputed', 'research', 'return', 'science', 'scientists', 'security', 'senior', 'set', 'siemens’', 'software', 'solutions', 'specification', 'spend', 'sponsored', 'string', 'strong', 'students', 'summer', 'superieure', 'supports', 'systems', 'tata', 'teaching', 'technology', 'that', 'the', 'theory', 'there', 'three', 'ties', 'timed', 'to', 'top', 'topology', 'two', 'under', 'university', 'up', 'verification', 'visit', 'visiting', 'visitors', 'was', 'with', 'working', 'workshops', 'year']\n"
     ]
    }
   ],
   "source": [
    "print(word_set)"
   ]
  },
  {
   "cell_type": "code",
   "execution_count": 3,
   "metadata": {},
   "outputs": [
    {
     "name": "stdout",
     "output_type": "stream",
     "text": [
      "175\n"
     ]
    }
   ],
   "source": [
    "print(len(word_set))"
   ]
  },
  {
   "cell_type": "markdown",
   "metadata": {},
   "source": [
    "Since each array entry uses 20 bytes and there are 175 terms in the word_set (Set of all words). Therefore the total space required is 175*20 = 3500 bytes which is equivalent to 3.42 KB approximately.\n",
    "\n",
    "## Total Space required = 3.42 KB"
   ]
  },
  {
   "cell_type": "code",
   "execution_count": 6,
   "metadata": {},
   "outputs": [
    {
     "name": "stdout",
     "output_type": "stream",
     "text": [
      "11420054200842009171a6abroad8academic6active8actively10activities7algebra10algorithms3all4also5among2an8analysis3and5arcus3are5areas2at9bangalore4been5being4best8bordeaux4both3bsc2by6cachan7carried6centre3cmi4cnrs13collaboration13collaborative10collection10complexity13computational8computer9computing11conferences10contribute9corporate7country2de10department6design11development12differential11distributed4each5ecole3ens9equations8exchange7faculty5field8flexible6formal4four6france6french4from6funded8geometry5group6groups6growth3had3has4have9honeywell4iisc3ile10impressive4imsc2in5india6indian4indo10industrial9initiated9institute12institutions8involved9involving2is7jointly5known10laboratory6levels4main6mainly12mathematical11mathematics7members7methods8ministry10networking7normale6number8nurtured2of8offering2on4open5other3out5paris11participate8partners3phd7physics9positions8problems9programme10programmes7project8projects4pune7pursued7quantum7ranking8recently6region7reputed8research6return7science10scientists8security6senior3set8siemens’8software9solutions13specification5spend9sponsored6string6strong8students6summer10superieure8supports7systems4tata8teaching10technology4that3the6theory5there5three4ties5timed2to3top8topology3two5under10university2up12verification5visit8visiting8visitors3was4with7working9workshops4year\n"
     ]
    }
   ],
   "source": [
    "dict_as_string = \"\"\n",
    "for x in word_set:\n",
    "    n = str(len(x))\n",
    "    dict_as_string += n + x\n",
    "print(dict_as)"
   ]
  },
  {
   "cell_type": "code",
   "execution_count": 8,
   "metadata": {},
   "outputs": [
    {
     "name": "stdout",
     "output_type": "stream",
     "text": [
      "1332\n"
     ]
    }
   ],
   "source": [
    "m = len(dict_as_string)\n",
    "print(m)"
   ]
  },
  {
   "cell_type": "code",
   "execution_count": 11,
   "metadata": {},
   "outputs": [
    {
     "name": "stdout",
     "output_type": "stream",
     "text": [
      "[(10, 'activities'), (10, 'algorithms'), (13, 'collaboration'), (13, 'collaborative'), (10, 'collection'), (10, 'complexity'), (13, 'computational'), (11, 'conferences'), (10, 'contribute'), (10, 'department'), (11, 'development'), (12, 'differential'), (11, 'distributed'), (10, 'impressive'), (10, 'industrial'), (12, 'institutions'), (10, 'laboratory'), (12, 'mathematical'), (11, 'mathematics'), (10, 'networking'), (11, 'participate'), (10, 'programmes'), (10, 'scientists'), (13, 'specification'), (10, 'superieure'), (10, 'technology'), (10, 'university'), (12, 'verification')]\n",
      "28\n"
     ]
    }
   ],
   "source": [
    "A = []\n",
    "for x in word_set:\n",
    "    n = len(x)\n",
    "    if n > 9:\n",
    "        A.append((n,x))\n",
    "\n",
    "print(A)\n",
    "print(len(A))"
   ]
  },
  {
   "cell_type": "markdown",
   "metadata": {},
   "source": [
    "Total string length is 1332. Here 28 terms have length greater than or equal to 10. so we store length of each word as a single character(i.e it can be represent as 8 bit binary representation ), so total number of characters we have to store is 1332- 28 = 1304 charactrers. so it takes total of 1304 * 1 = 1304 bytes.\n",
    "\n",
    "## Total space required = 1304 bytes = 1.27KB"
   ]
  },
  {
   "cell_type": "code",
   "execution_count": 14,
   "metadata": {},
   "outputs": [
    {
     "name": "stdout",
     "output_type": "stream",
     "text": [
      "[['1', '2005', '2008', '2009'], ['7', 'a', 'abroad', 'academic'], ['active', 'actively', 'activities', 'algebra'], ['algorithms', 'all', 'also', 'among'], ['an', 'analysis', 'and', 'arcus'], ['are', 'areas', 'at', 'bangalore'], ['been', 'being', 'best', 'bordeaux'], ['both', 'bsc', 'by', 'cachan'], ['carried', 'centre', 'cmi', 'cnrs'], ['collaboration', 'collaborative', 'collection', 'complexity'], ['computational', 'computer', 'computing', 'conferences'], ['contribute', 'corporate', 'country', 'de'], ['department', 'design', 'development', 'differential'], ['distributed', 'each', 'ecole', 'ens'], ['equations', 'exchange', 'faculty', 'field'], ['flexible', 'formal', 'four', 'france'], ['french', 'from', 'funded', 'geometry'], ['group', 'groups', 'growth', 'had'], ['has', 'have', 'honeywell', 'iisc'], ['ile', 'impressive', 'imsc', 'in'], ['india', 'indian', 'indo', 'industrial'], ['initiated', 'institute', 'institutions', 'involved'], ['involving', 'is', 'jointly', 'known'], ['laboratory', 'levels', 'main', 'mainly'], ['mathematical', 'mathematics', 'members', 'methods'], ['ministry', 'networking', 'normale', 'number'], ['nurtured', 'of', 'offering', 'on'], ['open', 'other', 'out', 'paris'], ['participate', 'partners', 'phd', 'physics'], ['positions', 'problems', 'programme', 'programmes'], ['project', 'projects', 'pune', 'pursued'], ['quantum', 'ranking', 'recently', 'region'], ['reputed', 'research', 'return', 'science'], ['scientists', 'security', 'senior', 'set'], ['siemens’', 'software', 'solutions', 'specification'], ['spend', 'sponsored', 'string', 'strong'], ['students', 'summer', 'superieure', 'supports'], ['systems', 'tata', 'teaching', 'technology'], ['that', 'the', 'theory', 'there'], ['three', 'ties', 'timed', 'to'], ['top', 'topology', 'two', 'under'], ['university', 'up', 'verification', 'visit'], ['visiting', 'visitors', 'was', 'with']]\n"
     ]
    }
   ],
   "source": [
    "block = []\n",
    "m = len(word_set)//4\n",
    "for i in range(m):\n",
    "    block.append([])\n",
    "    for j in range(4):\n",
    "        try:\n",
    "            block[i].append(word_set[4*i + j])\n",
    "        except:\n",
    "            continue\n",
    "print(block)"
   ]
  },
  {
   "cell_type": "code",
   "execution_count": 15,
   "metadata": {},
   "outputs": [
    {
     "name": "stdout",
     "output_type": "stream",
     "text": [
      "1*1<>15<>18<>191*7<>1a<>1d<>1c6a*ctive<>7ctively<>9ctivities<>6lgebra10a*lgorithms<>2ll<>3lso<>4mong2a*an<>8analysis<>3and<>5arcus3*are<>5areas<>2at<>9bangalore4b*een<>4eing<>3est<>7ordeaux4*both<>3bsc<>2by<>6cachan7c*arried<>5entre<>2mi<>3nrs13co*llaboration<>11llaborative<>8llection<>8mplexity13co*mputational<>6mputer<>7mputing<>9nferences10*contribute<>9corporate<>7country<>2de10d*epartment<>5esign<>10evelopment<>11ifferential11*distributed<>4each<>5ecole<>3ens9*equations<>8exchange<>7faculty<>5field8f*lexible<>5ormal<>3our<>5rance6*french<>4from<>6funded<>8geometry5*group<>6groups<>6growth<>3had3*has<>4have<>9honeywell<>4iisc3i*le<>9mpressive<>3msc<>1n5ind*ia<>3ian<>1o<>7ustrial9in*itiated<>7stitute<>10stitutions<>6volved9*involving<>2is<>7jointly<>5known10*laboratory<>6levels<>4main<>6mainly12m*athematical<>10athematics<>6embers<>6ethods8*ministry<>10networking<>7normale<>6number8*nurtured<>2of<>8offering<>2on4*open<>5other<>3out<>5paris11p*articipate<>7artners<>2hd<>6hysics9p*ositions<>7roblems<>8rogramme<>9rogrammes7p*roject<>7rojects<>3une<>6ursued7*quantum<>7ranking<>8recently<>6region7*reputed<>8research<>6return<>7science10s*cientists<>7ecurity<>5enior<>2et8s*iemens’<>7oftware<>8olutions<>12pecification5s*pend<>8ponsored<>5tring<>5trong8s*tudents<>5ummer<>9uperieure<>7upports7*systems<>4tata<>8teaching<>10technology4th*at<>1e<>4eory<>3ere5t*hree<>3ies<>4imed<>1o3*top<>8topology<>3two<>5under10*university<>2up<>12verification<>5visit8*visiting<>8visitors<>3was<>4with\n"
     ]
    }
   ],
   "source": [
    "string1 = \"\"\n",
    "for w in block:\n",
    "    string2 = \"\"\n",
    "    for i in range(len(w[0])):\n",
    "        if w[0][:i]==w[1][:i] and w[0][:i]==w[2][:i] and w[0][:i]==w[3][:i]:\n",
    "            prefix = w[0][:i]\n",
    "        else:\n",
    "            break\n",
    "    i -= 1\n",
    "    p = len(w[0])\n",
    "    w1 = w[0][i:]\n",
    "    w2, l2 = w[1][i:], len(w[1][i:])\n",
    "    w3, l3 = w[2][i:], len(w[2][i:])       \n",
    "    w4, l4 = w[3][i:], len(w[3][i:])\n",
    "\n",
    "    string2 = str(p) + prefix + '*' + w1 +\"<>\" + str(l2) + w2+\"<>\" + str(l3) + w3 +\"<>\" + str(l4) + w4\n",
    "    string1+= string2\n",
    "print(string1)"
   ]
  }
 ],
 "metadata": {
  "kernelspec": {
   "display_name": "Python 3",
   "language": "python",
   "name": "python3"
  },
  "language_info": {
   "codemirror_mode": {
    "name": "ipython",
    "version": 3
   },
   "file_extension": ".py",
   "mimetype": "text/x-python",
   "name": "python",
   "nbconvert_exporter": "python",
   "pygments_lexer": "ipython3",
   "version": "3.7.3"
  }
 },
 "nbformat": 4,
 "nbformat_minor": 2
}
